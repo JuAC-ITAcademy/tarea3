{
 "cells": [
  {
   "cell_type": "markdown",
   "metadata": {},
   "source": [
    "# Tarea 3. Estructura de control."
   ]
  },
  {
   "cell_type": "markdown",
   "metadata": {},
   "source": [
    "## Exercici 1\n",
    "\n",
    "L'exercici consisteix a crear un programa que et classifiqui una variable numèrica en funció de l’escala Suspès/Aprovat/Notable/Excel·lent."
   ]
  },
  {
   "cell_type": "code",
   "execution_count": null,
   "metadata": {},
   "outputs": [],
   "source": [
    "try:\n",
    "\n",
    "    i=11\n",
    "    while i<0 or i>10:\n",
    "        i=float(input('Introduzca una nota: '))\n",
    "        if i<0 or i>10:\n",
    "            print('Por favor introduzca un número entre 0 y 10 para ser evaluado.')\n",
    "        elif i<5:\n",
    "            print('La nota es: Suspenso')\n",
    "        elif i<7:\n",
    "            print('La nota es: Aprobado')\n",
    "        elif i<9:\n",
    "            print('La nota es: Notable')\n",
    "        elif i<=10:\n",
    "            print('/n La nota es: Excelente')\n",
    "\n",
    "except:\n",
    "    print('Tendrías que haber introducido un número, por favor vuelve a ejecutar el programa.')\n"
   ]
  },
  {
   "cell_type": "markdown",
   "metadata": {},
   "source": [
    "## Exercici 2\n",
    "\n",
    "Crea un programa que et pregunti dos números. T’ha de mostrar un missatge dient si el primer és més gran, el segon és més gran o són iguals."
   ]
  },
  {
   "cell_type": "code",
   "execution_count": null,
   "metadata": {},
   "outputs": [],
   "source": [
    "numero_1=float(input('Introduce el primer número: '))\n",
    "numero_2=float(input('Introduce el segundo número: '))\n",
    "\n",
    "if numero_1>numero_2:\n",
    "    print('El primer número es mayor que el segundo')\n",
    "elif numero_1==numero_2:\n",
    "    print('Los números son iguales')\n",
    "else:\n",
    "    print('El primer número es menor que el segundo ')"
   ]
  },
  {
   "cell_type": "markdown",
   "metadata": {},
   "source": [
    "## Exercici 3\n",
    "Crea un programa que et pregunti el teu nom, i et demani un número. Si el número és 0, hauria de mostrar un missatge d’error. En cas contrari, hauria de mostrar el nom repetit tants cops com indiqui el número. Per exemple, “Joan Joan Joan”."
   ]
  },
  {
   "cell_type": "code",
   "execution_count": null,
   "metadata": {},
   "outputs": [],
   "source": [
    "nombre=(input('Introduce tu nombre: '))\n",
    "numero=int(input('Introduce un número mayor que cero: '))\n",
    "if numero==0:\n",
    "    print('Vuelve a ejecutar el programa por favor')\n",
    "\n",
    "print((nombre+' ')*numero)"
   ]
  },
  {
   "cell_type": "markdown",
   "metadata": {},
   "source": [
    "## Exercici 4\n",
    "Crea un programa que donada una llista qualsevol, et digui si es simètrica o no. Si ho és, que et digui quants elements té."
   ]
  },
  {
   "cell_type": "code",
   "execution_count": null,
   "metadata": {},
   "outputs": [],
   "source": [
    "lista=[1,2,3,1]\n",
    "\n",
    "if len(lista)%2==0:\n",
    "    if lista[0:int(len(lista)/2)]==lista[int(len(lista)/2):][::-1]:\n",
    "        print('Esta lista es simétrica')\n",
    "    else:\n",
    "        print('Esta lista no es simétrica')\n",
    "else:\n",
    "    if lista[0:int(len(lista)/2)]==lista[(int(len(lista)/2)+1):][::-1]:\n",
    "        print('Esta lista es simétrica')\n",
    "    else:\n",
    "        print('Esta lista no es simétrica')"
   ]
  },
  {
   "cell_type": "markdown",
   "metadata": {},
   "source": [
    "## Exercici 5\n",
    "\n",
    "Crea un programa que donada una llista, et digui quants números coincideixen amb la seva posició. Per exemple [3,4,2,0,2,3,6] el 2 i el 6 coincideixen."
   ]
  },
  {
   "cell_type": "code",
   "execution_count": null,
   "metadata": {},
   "outputs": [],
   "source": [
    "lista=[3,4,2,0,2,3,6,7]"
   ]
  },
  {
   "cell_type": "code",
   "execution_count": null,
   "metadata": {},
   "outputs": [],
   "source": [
    "# Lista con los números que coindiden con su índice.\n",
    "print([elemento for elemento in range(len(lista)) if elemento==lista[elemento]])\n",
    "# Total de números que coindiden con su índice.\n",
    "len([elemento for elemento in range(len(lista)) if elemento==lista[elemento]])"
   ]
  },
  {
   "cell_type": "code",
   "execution_count": null,
   "metadata": {},
   "outputs": [],
   "source": []
  }
 ],
 "metadata": {
  "kernelspec": {
   "display_name": "Python 3",
   "language": "python",
   "name": "python3"
  },
  "language_info": {
   "codemirror_mode": {
    "name": "ipython",
    "version": 3
   },
   "file_extension": ".py",
   "mimetype": "text/x-python",
   "name": "python",
   "nbconvert_exporter": "python",
   "pygments_lexer": "ipython3",
   "version": "3.8.5"
  }
 },
 "nbformat": 4,
 "nbformat_minor": 4
}
